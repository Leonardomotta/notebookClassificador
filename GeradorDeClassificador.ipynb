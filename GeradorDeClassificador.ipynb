{
 "cells": [
  {
   "cell_type": "code",
   "execution_count": 64,
   "id": "d5d4af47",
   "metadata": {},
   "outputs": [
    {
     "name": "stderr",
     "output_type": "stream",
     "text": [
      "[nltk_data] Downloading package stopwords to\n",
      "[nltk_data]     C:\\Users\\Leonardo\\AppData\\Roaming\\nltk_data...\n",
      "[nltk_data]   Package stopwords is already up-to-date!\n"
     ]
    },
    {
     "name": "stdout",
     "output_type": "stream",
     "text": [
      "Requirement already satisfied: seaborn in c:\\users\\leonardo\\anaconda3\\envs\\projetorci\\lib\\site-packages (0.11.2)\n",
      "Requirement already satisfied: scipy>=1.0 in c:\\users\\leonardo\\anaconda3\\envs\\projetorci\\lib\\site-packages (from seaborn) (1.7.3)\n",
      "Requirement already satisfied: matplotlib>=2.2 in c:\\users\\leonardo\\anaconda3\\envs\\projetorci\\lib\\site-packages (from seaborn) (3.5.2)\n"
     ]
    },
    {
     "name": "stderr",
     "output_type": "stream",
     "text": [
      "WARNING: You are using pip version 22.0.4; however, version 22.2.2 is available.\n",
      "You should consider upgrading via the 'c:\\users\\leonardo\\anaconda3\\envs\\projetorci\\python.exe -m pip install --upgrade pip' command.\n"
     ]
    },
    {
     "name": "stdout",
     "output_type": "stream",
     "text": [
      "Requirement already satisfied: numpy>=1.15 in c:\\users\\leonardo\\anaconda3\\envs\\projetorci\\lib\\site-packages (from seaborn) (1.21.6)\n",
      "Requirement already satisfied: pandas>=0.23 in c:\\users\\leonardo\\anaconda3\\envs\\projetorci\\lib\\site-packages (from seaborn) (1.3.5)\n",
      "Requirement already satisfied: pyparsing>=2.2.1 in c:\\users\\leonardo\\anaconda3\\envs\\projetorci\\lib\\site-packages (from matplotlib>=2.2->seaborn) (3.0.4)\n",
      "Requirement already satisfied: python-dateutil>=2.7 in c:\\users\\leonardo\\anaconda3\\envs\\projetorci\\lib\\site-packages (from matplotlib>=2.2->seaborn) (2.8.2)\n",
      "Requirement already satisfied: packaging>=20.0 in c:\\users\\leonardo\\anaconda3\\envs\\projetorci\\lib\\site-packages (from matplotlib>=2.2->seaborn) (21.3)\n",
      "Requirement already satisfied: cycler>=0.10 in c:\\users\\leonardo\\anaconda3\\envs\\projetorci\\lib\\site-packages (from matplotlib>=2.2->seaborn) (0.11.0)\n",
      "Requirement already satisfied: pillow>=6.2.0 in c:\\users\\leonardo\\anaconda3\\envs\\projetorci\\lib\\site-packages (from matplotlib>=2.2->seaborn) (9.1.1)\n",
      "Requirement already satisfied: fonttools>=4.22.0 in c:\\users\\leonardo\\anaconda3\\envs\\projetorci\\lib\\site-packages (from matplotlib>=2.2->seaborn) (4.33.3)\n",
      "Requirement already satisfied: kiwisolver>=1.0.1 in c:\\users\\leonardo\\anaconda3\\envs\\projetorci\\lib\\site-packages (from matplotlib>=2.2->seaborn) (1.4.3)\n",
      "Requirement already satisfied: pytz>=2017.3 in c:\\users\\leonardo\\anaconda3\\envs\\projetorci\\lib\\site-packages (from pandas>=0.23->seaborn) (2022.1)\n",
      "Requirement already satisfied: typing-extensions in c:\\users\\leonardo\\anaconda3\\envs\\projetorci\\lib\\site-packages (from kiwisolver>=1.0.1->matplotlib>=2.2->seaborn) (3.10.0.2)\n",
      "Requirement already satisfied: six>=1.5 in c:\\users\\leonardo\\anaconda3\\envs\\projetorci\\lib\\site-packages (from python-dateutil>=2.7->matplotlib>=2.2->seaborn) (1.12.0)\n"
     ]
    },
    {
     "name": "stderr",
     "output_type": "stream",
     "text": [
      "ERROR: Could not find a version that satisfies the requirement pickle (from versions: none)\n",
      "ERROR: No matching distribution found for pickle\n",
      "WARNING: You are using pip version 22.0.4; however, version 22.2.2 is available.\n",
      "You should consider upgrading via the 'c:\\users\\leonardo\\anaconda3\\envs\\projetorci\\python.exe -m pip install --upgrade pip' command.\n"
     ]
    }
   ],
   "source": [
    "from textblob import TextBlob\n",
    "import pandas as pd\n",
    "import re\n",
    "import tweepy\n",
    "import sklearn\n",
    "from sklearn.feature_extraction.text import CountVectorizer\n",
    "from sklearn.naive_bayes import MultinomialNB\n",
    "import sklearn\n",
    "from sklearn.feature_extraction.text import CountVectorizer\n",
    "import nltk\n",
    "from nltk.tokenize import RegexpTokenizer\n",
    "from nltk.stem import PorterStemmer\n",
    "nltk.download('stopwords')\n",
    "stopwords = nltk.corpus.stopwords.words('portuguese')\n",
    "ps = PorterStemmer()\n",
    "import numpy as np\n",
    "from sklearn.metrics import confusion_matrix\n",
    "from sklearn.metrics import classification_report\n",
    "import matplotlib.pyplot as plt\n",
    "from sklearn.metrics import accuracy_score\n",
    "import seaborn as sns\n",
    "import matplotlib.pyplot as plt\n",
    "from sklearn.naive_bayes import MultinomialNB\n",
    "from sklearn.naive_bayes import ComplementNB\n",
    "from  sklearn import tree\n",
    "from sklearn.linear_model import SGDClassifier\n",
    "from sklearn.neighbors import NearestCentroid\n",
    "import snscrape.modules.twitter as sntwitter\n",
    "import snscrape.modules.twitter as sntwitter\n",
    "import pandas as pd\n",
    "!pip install seaborn\n",
    "!pip install pickle\n",
    "import pickle"
   ]
  },
  {
   "cell_type": "markdown",
   "id": "8864d2c2",
   "metadata": {},
   "source": [
    "<h2>Funções auxiliares</h2>"
   ]
  },
  {
   "cell_type": "code",
   "execution_count": 65,
   "id": "a0a07239",
   "metadata": {},
   "outputs": [],
   "source": [
    "def cleanText(text) :\n",
    "    text = re.sub(r'@[A-Za-z0-9]+','',text) #remove menções\n",
    "    text = re.sub(r'https?:\\/\\/\\S+','',text)#remove links \n",
    "    text = re.sub(r'RT[\\s]+','',text)\n",
    "    text = re.sub(r\"http\\S+\", \"\", text)\n",
    "    text = re.sub(r\"www.\\S+\", \"\", text)\n",
    "    text = re.sub('[()!?]', ' ', text)\n",
    "    text = re.sub('\\[.*?\\]',' ', text)\n",
    "    \n",
    "    \n",
    "    text =  text.lower()\n",
    "    \n",
    "    #tokenize\n",
    "    tokenizer = RegexpTokenizer(r'\\w+')\n",
    "    tokens = tokenizer.tokenize(text)\n",
    "    clean_tokens =  [token for token in tokens if token not in stopwords]\n",
    "    stemmed_tokens = [ps.stem(token) for token in clean_tokens]\n",
    "    clean_text = \" \".join(stemmed_tokens)\n",
    "    \n",
    "\n",
    "    return clean_text\n",
    "\n",
    "\n",
    "def report_to_df(report):\n",
    "    report = [x.split(' ') for x in report.split('\\n')]\n",
    "    header = ['Polaridade']+[x for x in report[0] if x!='']\n",
    "    values = []\n",
    "    for row in report[1:-5]:\n",
    "        row = [value for value in row if value!='']\n",
    "        if row!=[]:\n",
    "            values.append(row)\n",
    "    df = pd.DataFrame(data = values, columns = header)\n",
    "    return df\n",
    "\n",
    "\n",
    "\n",
    "def contaOcorrencia(a,b,size) :\n",
    "    \n",
    "    positivos,negativos,neutros,positivos_preditos,negativos_preditos,neuto_preditos = 0\n",
    "    \n",
    "    for i in a :\n",
    "        \n",
    "        if a == 1 :\n",
    "            positivos += 1\n",
    "            \n",
    "        if a == -1 :\n",
    "            negativos += 1\n",
    "        \n",
    "        if a == 0 :\n",
    "            neutros += 1\n",
    "            \n",
    "    for i in b :\n",
    "\n",
    "        if b == 1 :\n",
    "            positivos_preditos += 1\n",
    "            \n",
    "        if b == -1 :\n",
    "            negativos_preditos += 1\n",
    "        \n",
    "        if b == 0 :\n",
    "            neuto_preditos += 1\n",
    "            \n",
    "        print (\"Positivos: \" + positivos)\n",
    "        print (\"Negativos: \" + negativos)\n",
    "        print (\"Neutros: \" + neutros)\n",
    "        \n",
    "        print (\"positivos_preditos: \" + positivos_preditos)\n",
    "        print (\"negativos_preditos: \" + negativos_preditos)\n",
    "        print (\"neuto_preditos: \" + neuto_preditos)\n",
    "        \n",
    "\n",
    "def genCm(x,y):\n",
    "    valores_reais    = x\n",
    "    valores_preditos = y\n",
    "\n",
    "    cm =confusion_matrix(valores_reais,valores_preditos ) \n",
    "    index = ['Negativos','Neutros','Positivos']  \n",
    "    columns = ['Negativos','Neutros','Positivos']  \n",
    "    cm_df = pd.DataFrame(cm,columns,index).transpose()                      \n",
    "    plt.figure(figsize=(10,6))  \n",
    "    sns.heatmap(cm_df, annot=True,fmt='d') \n",
    "\n",
    "    print ( \"acurracia media: {:.2f}\\n\\n\".format(accuracy_score(valores_reais, valores_preditos)))\n",
    "    \n",
    "     \n",
    "\n",
    "    report = classification_report (valores_reais,valores_preditos)\n",
    "    e = report_to_df(report)\n",
    "    display(e)\n",
    "\n",
    "\n"
   ]
  },
  {
   "cell_type": "markdown",
   "id": "a3d40fdb",
   "metadata": {},
   "source": [
    "<h2>Carregando arquivo csv</h2>"
   ]
  },
  {
   "cell_type": "code",
   "execution_count": 66,
   "id": "f2c37f75",
   "metadata": {},
   "outputs": [
    {
     "name": "stdout",
     "output_type": "stream",
     "text": [
      "(1038, 3)\n"
     ]
    }
   ],
   "source": [
    "df = pd.read_csv ('finalDataset.csv')\n",
    "\n",
    "posts = df['Tweets'].to_numpy()\n",
    "polaridade =  df['Polaridade'].to_numpy()\n",
    "\n",
    "print(df.shape)\n",
    "\n",
    "def fixData(x):\n",
    "    if x == 'Positivo':\n",
    "        return 1\n",
    "    elif x == 'Negativo':\n",
    "        return -1\n",
    "    else:\n",
    "        return 0"
   ]
  },
  {
   "cell_type": "markdown",
   "id": "111bb2a0",
   "metadata": {},
   "source": [
    "<h2>Gerando Arrays de treino e de teste<h2>\n",
    "    \n",
    "<p>Considerando 1200 registros. Desses, 800 foram usados para treino e restante para os testes</p>"
   ]
  },
  {
   "cell_type": "code",
   "execution_count": 67,
   "id": "4b8c0d3a",
   "metadata": {},
   "outputs": [],
   "source": [
    "text = []\n",
    "test = []\n",
    "pol= []\n",
    "pred_test = []\n",
    "\n",
    "for i in  range(len(posts)) :\n",
    "    \n",
    "    if i < 800:\n",
    "            text.append(cleanText(posts[i]))\n",
    "            pol.append((polaridade[i])) \n",
    "    else :\n",
    "        test.append(cleanText(posts[i])) \n",
    "        pred_test.append((polaridade[i])) \n",
    "\n",
    "\n",
    "cv = CountVectorizer(ngram_range=(-1,1))\n",
    "xvec = cv.fit_transform(text).toarray() # treino\n",
    "xtvec = cv.transform(test).toarray()\n",
    "\n",
    "\n",
    "    "
   ]
  },
  {
   "cell_type": "markdown",
   "id": "0e146d7e",
   "metadata": {},
   "source": [
    "<h2>Treinando o modelo"
   ]
  },
  {
   "cell_type": "code",
   "execution_count": 68,
   "id": "4fd93089",
   "metadata": {},
   "outputs": [
    {
     "data": {
      "text/plain": [
       "NearestCentroid()"
      ]
     },
     "execution_count": 68,
     "metadata": {},
     "output_type": "execute_result"
    }
   ],
   "source": [
    "clfMultinomial = MultinomialNB()\n",
    "clfComplementNB = ComplementNB()\n",
    "clfDecisionTree = tree.DecisionTreeClassifier()\n",
    "clfSGD = SGDClassifier(loss=\"hinge\", penalty=\"l2\", max_iter=100)\n",
    "clfknn = NearestCentroid()\n",
    "\n",
    "clfMultinomial.fit(xvec,pol)\n",
    "clfComplementNB.fit(xvec,pol)\n",
    "clfDecisionTree.fit(xvec,pol)\n",
    "clfSGD.fit(xvec,pol)\n",
    "clfknn.fit(xvec,pol)\n"
   ]
  },
  {
   "cell_type": "markdown",
   "id": "ba8c2b93",
   "metadata": {},
   "source": [
    "<h2>Extração de tweets para analise a olho nu<h2>"
   ]
  },
  {
   "cell_type": "code",
   "execution_count": 69,
   "id": "7f2a1201",
   "metadata": {},
   "outputs": [],
   "source": [
    "\n",
    "tweets_list2 = []\n",
    "\n",
    "for i,tweet in enumerate(sntwitter.TwitterSearchScraper('doutor estranho since:2022-05-22 until:2022-05-24 lang:pt').get_items()):\n",
    "    if i>500:\n",
    "        break\n",
    "    tweets_list2.append([tweet.date, tweet.id, tweet.content])\n",
    "    \n",
    "tweets_df2 = pd.DataFrame(tweets_list2, columns=['Datetime', 'Tweet Id', 'Text'])\n",
    "    \n",
    "\n",
    "\n",
    "\n",
    "\n"
   ]
  },
  {
   "cell_type": "code",
   "execution_count": 70,
   "id": "4801c5a8",
   "metadata": {},
   "outputs": [],
   "source": [
    "\n",
    "y_pred_mutinomial = clfMultinomial.predict(xtvec) \n",
    "y_pred_complement = clfComplementNB.predict(xtvec) \n",
    "y_pred_decisionTree = clfDecisionTree.predict(xtvec) \n",
    "y_pred_SGD = clfSGD.predict(xtvec) \n",
    "Y_pred_knn = clfknn.predict(xtvec)\n",
    "\n"
   ]
  },
  {
   "cell_type": "markdown",
   "id": "7725567e",
   "metadata": {},
   "source": [
    "<h2>Classificador Multinomial Nayve Bayes<h2>\n",
    "    "
   ]
  },
  {
   "cell_type": "code",
   "execution_count": 71,
   "id": "2eae3ecc",
   "metadata": {},
   "outputs": [
    {
     "name": "stdout",
     "output_type": "stream",
     "text": [
      "acurracia media: 0.63\n",
      "\n",
      "\n"
     ]
    },
    {
     "data": {
      "text/html": [
       "<div>\n",
       "<style scoped>\n",
       "    .dataframe tbody tr th:only-of-type {\n",
       "        vertical-align: middle;\n",
       "    }\n",
       "\n",
       "    .dataframe tbody tr th {\n",
       "        vertical-align: top;\n",
       "    }\n",
       "\n",
       "    .dataframe thead th {\n",
       "        text-align: right;\n",
       "    }\n",
       "</style>\n",
       "<table border=\"1\" class=\"dataframe\">\n",
       "  <thead>\n",
       "    <tr style=\"text-align: right;\">\n",
       "      <th></th>\n",
       "      <th>Polaridade</th>\n",
       "      <th>precision</th>\n",
       "      <th>recall</th>\n",
       "      <th>f1-score</th>\n",
       "      <th>support</th>\n",
       "    </tr>\n",
       "  </thead>\n",
       "  <tbody>\n",
       "    <tr>\n",
       "      <th>0</th>\n",
       "      <td>-1</td>\n",
       "      <td>0.76</td>\n",
       "      <td>0.77</td>\n",
       "      <td>0.77</td>\n",
       "      <td>172</td>\n",
       "    </tr>\n",
       "    <tr>\n",
       "      <th>1</th>\n",
       "      <td>0</td>\n",
       "      <td>0.25</td>\n",
       "      <td>0.04</td>\n",
       "      <td>0.06</td>\n",
       "      <td>28</td>\n",
       "    </tr>\n",
       "    <tr>\n",
       "      <th>2</th>\n",
       "      <td>1</td>\n",
       "      <td>0.25</td>\n",
       "      <td>0.39</td>\n",
       "      <td>0.31</td>\n",
       "      <td>38</td>\n",
       "    </tr>\n",
       "  </tbody>\n",
       "</table>\n",
       "</div>"
      ],
      "text/plain": [
       "  Polaridade precision recall f1-score support\n",
       "0         -1      0.76   0.77     0.77     172\n",
       "1          0      0.25   0.04     0.06      28\n",
       "2          1      0.25   0.39     0.31      38"
      ]
     },
     "metadata": {},
     "output_type": "display_data"
    },
    {
     "data": {
      "image/png": "[encoded data removed]",
      "text/plain": [
       "<Figure size 720x432 with 2 Axes>"
      ]
     },
     "metadata": {
      "needs_background": "light"
     },
     "output_type": "display_data"
    }
   ],
   "source": [
    "genCm(pred_test,y_pred_mutinomial)"
   ]
  },
  {
   "cell_type": "markdown",
   "id": "1190201b",
   "metadata": {},
   "source": [
    "<h2>Complemento de Nayve Bayes</h2>"
   ]
  },
  {
   "cell_type": "code",
   "execution_count": 72,
   "id": "dd6c614b",
   "metadata": {},
   "outputs": [
    {
     "name": "stdout",
     "output_type": "stream",
     "text": [
      "acurracia media: 0.57\n",
      "\n",
      "\n"
     ]
    },
    {
     "data": {
      "text/html": [
       "<div>\n",
       "<style scoped>\n",
       "    .dataframe tbody tr th:only-of-type {\n",
       "        vertical-align: middle;\n",
       "    }\n",
       "\n",
       "    .dataframe tbody tr th {\n",
       "        vertical-align: top;\n",
       "    }\n",
       "\n",
       "    .dataframe thead th {\n",
       "        text-align: right;\n",
       "    }\n",
       "</style>\n",
       "<table border=\"1\" class=\"dataframe\">\n",
       "  <thead>\n",
       "    <tr style=\"text-align: right;\">\n",
       "      <th></th>\n",
       "      <th>Polaridade</th>\n",
       "      <th>precision</th>\n",
       "      <th>recall</th>\n",
       "      <th>f1-score</th>\n",
       "      <th>support</th>\n",
       "    </tr>\n",
       "  </thead>\n",
       "  <tbody>\n",
       "    <tr>\n",
       "      <th>0</th>\n",
       "      <td>-1</td>\n",
       "      <td>0.74</td>\n",
       "      <td>0.69</td>\n",
       "      <td>0.71</td>\n",
       "      <td>172</td>\n",
       "    </tr>\n",
       "    <tr>\n",
       "      <th>1</th>\n",
       "      <td>0</td>\n",
       "      <td>0.14</td>\n",
       "      <td>0.07</td>\n",
       "      <td>0.10</td>\n",
       "      <td>28</td>\n",
       "    </tr>\n",
       "    <tr>\n",
       "      <th>2</th>\n",
       "      <td>1</td>\n",
       "      <td>0.25</td>\n",
       "      <td>0.42</td>\n",
       "      <td>0.31</td>\n",
       "      <td>38</td>\n",
       "    </tr>\n",
       "  </tbody>\n",
       "</table>\n",
       "</div>"
      ],
      "text/plain": [
       "  Polaridade precision recall f1-score support\n",
       "0         -1      0.74   0.69     0.71     172\n",
       "1          0      0.14   0.07     0.10      28\n",
       "2          1      0.25   0.42     0.31      38"
      ]
     },
     "metadata": {},
     "output_type": "display_data"
    },
    {
     "data": {
      "image/png": "[encoded data removed]",
      "text/plain": [
       "<Figure size 720x432 with 2 Axes>"
      ]
     },
     "metadata": {
      "needs_background": "light"
     },
     "output_type": "display_data"
    }
   ],
   "source": [
    "genCm(pred_test,y_pred_complement)"
   ]
  },
  {
   "cell_type": "markdown",
   "id": "2570069a",
   "metadata": {},
   "source": [
    "<h2>Arvore de decisão</h2>"
   ]
  },
  {
   "cell_type": "code",
   "execution_count": 73,
   "id": "efec935a",
   "metadata": {},
   "outputs": [
    {
     "name": "stdout",
     "output_type": "stream",
     "text": [
      "acurracia media: 0.61\n",
      "\n",
      "\n"
     ]
    },
    {
     "data": {
      "text/html": [
       "<div>\n",
       "<style scoped>\n",
       "    .dataframe tbody tr th:only-of-type {\n",
       "        vertical-align: middle;\n",
       "    }\n",
       "\n",
       "    .dataframe tbody tr th {\n",
       "        vertical-align: top;\n",
       "    }\n",
       "\n",
       "    .dataframe thead th {\n",
       "        text-align: right;\n",
       "    }\n",
       "</style>\n",
       "<table border=\"1\" class=\"dataframe\">\n",
       "  <thead>\n",
       "    <tr style=\"text-align: right;\">\n",
       "      <th></th>\n",
       "      <th>Polaridade</th>\n",
       "      <th>precision</th>\n",
       "      <th>recall</th>\n",
       "      <th>f1-score</th>\n",
       "      <th>support</th>\n",
       "    </tr>\n",
       "  </thead>\n",
       "  <tbody>\n",
       "    <tr>\n",
       "      <th>0</th>\n",
       "      <td>-1</td>\n",
       "      <td>0.78</td>\n",
       "      <td>0.77</td>\n",
       "      <td>0.77</td>\n",
       "      <td>172</td>\n",
       "    </tr>\n",
       "    <tr>\n",
       "      <th>1</th>\n",
       "      <td>0</td>\n",
       "      <td>0.00</td>\n",
       "      <td>0.00</td>\n",
       "      <td>0.00</td>\n",
       "      <td>28</td>\n",
       "    </tr>\n",
       "    <tr>\n",
       "      <th>2</th>\n",
       "      <td>1</td>\n",
       "      <td>0.19</td>\n",
       "      <td>0.34</td>\n",
       "      <td>0.25</td>\n",
       "      <td>38</td>\n",
       "    </tr>\n",
       "  </tbody>\n",
       "</table>\n",
       "</div>"
      ],
      "text/plain": [
       "  Polaridade precision recall f1-score support\n",
       "0         -1      0.78   0.77     0.77     172\n",
       "1          0      0.00   0.00     0.00      28\n",
       "2          1      0.19   0.34     0.25      38"
      ]
     },
     "metadata": {},
     "output_type": "display_data"
    },
    {
     "data": {
      "image/png": "[encoded data removed]",
      "text/plain": [
       "<Figure size 720x432 with 2 Axes>"
      ]
     },
     "metadata": {
      "needs_background": "light"
     },
     "output_type": "display_data"
    }
   ],
   "source": [
    "genCm(pred_test,y_pred_decisionTree)"
   ]
  },
  {
   "cell_type": "markdown",
   "id": "3cef7677",
   "metadata": {},
   "source": [
    "<h2>SGD</h2>\n"
   ]
  },
  {
   "cell_type": "code",
   "execution_count": 74,
   "id": "5043effd",
   "metadata": {
    "scrolled": true
   },
   "outputs": [
    {
     "name": "stdout",
     "output_type": "stream",
     "text": [
      "acurracia media: 0.60\n",
      "\n",
      "\n"
     ]
    },
    {
     "data": {
      "text/html": [
       "<div>\n",
       "<style scoped>\n",
       "    .dataframe tbody tr th:only-of-type {\n",
       "        vertical-align: middle;\n",
       "    }\n",
       "\n",
       "    .dataframe tbody tr th {\n",
       "        vertical-align: top;\n",
       "    }\n",
       "\n",
       "    .dataframe thead th {\n",
       "        text-align: right;\n",
       "    }\n",
       "</style>\n",
       "<table border=\"1\" class=\"dataframe\">\n",
       "  <thead>\n",
       "    <tr style=\"text-align: right;\">\n",
       "      <th></th>\n",
       "      <th>Polaridade</th>\n",
       "      <th>precision</th>\n",
       "      <th>recall</th>\n",
       "      <th>f1-score</th>\n",
       "      <th>support</th>\n",
       "    </tr>\n",
       "  </thead>\n",
       "  <tbody>\n",
       "    <tr>\n",
       "      <th>0</th>\n",
       "      <td>-1</td>\n",
       "      <td>0.79</td>\n",
       "      <td>0.72</td>\n",
       "      <td>0.76</td>\n",
       "      <td>172</td>\n",
       "    </tr>\n",
       "    <tr>\n",
       "      <th>1</th>\n",
       "      <td>0</td>\n",
       "      <td>0.20</td>\n",
       "      <td>0.07</td>\n",
       "      <td>0.11</td>\n",
       "      <td>28</td>\n",
       "    </tr>\n",
       "    <tr>\n",
       "      <th>2</th>\n",
       "      <td>1</td>\n",
       "      <td>0.24</td>\n",
       "      <td>0.45</td>\n",
       "      <td>0.31</td>\n",
       "      <td>38</td>\n",
       "    </tr>\n",
       "  </tbody>\n",
       "</table>\n",
       "</div>"
      ],
      "text/plain": [
       "  Polaridade precision recall f1-score support\n",
       "0         -1      0.79   0.72     0.76     172\n",
       "1          0      0.20   0.07     0.11      28\n",
       "2          1      0.24   0.45     0.31      38"
      ]
     },
     "metadata": {},
     "output_type": "display_data"
    },
    {
     "data": {
      "image/png": "[encoded data removed]",
      "text/plain": [
       "<Figure size 720x432 with 2 Axes>"
      ]
     },
     "metadata": {
      "needs_background": "light"
     },
     "output_type": "display_data"
    }
   ],
   "source": [
    "genCm(pred_test,y_pred_SGD)"
   ]
  },
  {
   "cell_type": "markdown",
   "id": "08f9eadc",
   "metadata": {},
   "source": [
    "<h2>KNN</h2>"
   ]
  },
  {
   "cell_type": "code",
   "execution_count": 75,
   "id": "604c7653",
   "metadata": {},
   "outputs": [
    {
     "name": "stdout",
     "output_type": "stream",
     "text": [
      "acurracia media: 0.53\n",
      "\n",
      "\n"
     ]
    },
    {
     "data": {
      "text/html": [
       "<div>\n",
       "<style scoped>\n",
       "    .dataframe tbody tr th:only-of-type {\n",
       "        vertical-align: middle;\n",
       "    }\n",
       "\n",
       "    .dataframe tbody tr th {\n",
       "        vertical-align: top;\n",
       "    }\n",
       "\n",
       "    .dataframe thead th {\n",
       "        text-align: right;\n",
       "    }\n",
       "</style>\n",
       "<table border=\"1\" class=\"dataframe\">\n",
       "  <thead>\n",
       "    <tr style=\"text-align: right;\">\n",
       "      <th></th>\n",
       "      <th>Polaridade</th>\n",
       "      <th>precision</th>\n",
       "      <th>recall</th>\n",
       "      <th>f1-score</th>\n",
       "      <th>support</th>\n",
       "    </tr>\n",
       "  </thead>\n",
       "  <tbody>\n",
       "    <tr>\n",
       "      <th>0</th>\n",
       "      <td>-1</td>\n",
       "      <td>0.74</td>\n",
       "      <td>0.61</td>\n",
       "      <td>0.67</td>\n",
       "      <td>172</td>\n",
       "    </tr>\n",
       "    <tr>\n",
       "      <th>1</th>\n",
       "      <td>0</td>\n",
       "      <td>0.00</td>\n",
       "      <td>0.00</td>\n",
       "      <td>0.00</td>\n",
       "      <td>28</td>\n",
       "    </tr>\n",
       "    <tr>\n",
       "      <th>2</th>\n",
       "      <td>1</td>\n",
       "      <td>0.22</td>\n",
       "      <td>0.55</td>\n",
       "      <td>0.32</td>\n",
       "      <td>38</td>\n",
       "    </tr>\n",
       "  </tbody>\n",
       "</table>\n",
       "</div>"
      ],
      "text/plain": [
       "  Polaridade precision recall f1-score support\n",
       "0         -1      0.74   0.61     0.67     172\n",
       "1          0      0.00   0.00     0.00      28\n",
       "2          1      0.22   0.55     0.32      38"
      ]
     },
     "metadata": {},
     "output_type": "display_data"
    },
    {
     "data": {
      "image/png": "[encoded data removed]",
      "text/plain": [
       "<Figure size 720x432 with 2 Axes>"
      ]
     },
     "metadata": {
      "needs_background": "light"
     },
     "output_type": "display_data"
    }
   ],
   "source": [
    "genCm(pred_test,Y_pred_knn)"
   ]
  },
  {
   "cell_type": "markdown",
   "id": "4c6c835c",
   "metadata": {},
   "source": [
    "Nenhum dos modelos apresentou um grau de precisão satisfatorio, entao utilizando uma base de dados criada a partir do imdb os modelos passaram por uma nova etapa de treino afim de melhorar seus resultados na avaliação de tweets com polaridade positiva ou neutra "
   ]
  },
  {
   "cell_type": "code",
   "execution_count": 76,
   "id": "01ef8c39",
   "metadata": {},
   "outputs": [
    {
     "name": "stdout",
     "output_type": "stream",
     "text": [
      "(15105, 3)\n"
     ]
    }
   ],
   "source": [
    "\n",
    "Newdf = pd.read_csv ('./Datasetmerge.csv')\n",
    "\n",
    "posts2 = Newdf['Tweets'].to_numpy()\n",
    "polaridade2 =  Newdf['Polaridade'].to_numpy()\n",
    "\n",
    "\n",
    "print(Newdf.shape)\n",
    "\n"
   ]
  },
  {
   "cell_type": "code",
   "execution_count": 77,
   "id": "05984c92",
   "metadata": {},
   "outputs": [],
   "source": [
    "text2 = []\n",
    "pol2= []\n",
    "teste2 = []\n",
    "testey = []\n",
    "j=0\n",
    "negativos = positivos = neutros=0\n",
    "k=0\n",
    "\n",
    "for k in range(len(posts2)):\n",
    "    \n",
    "    if(polaridade2[k] == 1 and positivos < 1000) :\n",
    "        teste2.append(cleanText(posts2[k])) \n",
    "        testey.append((polaridade2[k]))\n",
    "        positivos += 1\n",
    "        np.delete(polaridade2,k)\n",
    "        np.delete(posts2,k)\n",
    "\n",
    "        \n",
    "    elif(polaridade2[k] == 0 and neutros < 1000) :\n",
    "        teste2.append(cleanText(posts2[k])) \n",
    "        testey.append((polaridade2[k]))\n",
    "        neutros += 1\n",
    "        np.delete(polaridade2,k)\n",
    "        np.delete(posts2,k)\n",
    "    \n",
    "    elif(polaridade2[k] == -1 and negativos < 1000) :\n",
    "        teste2.append(cleanText(posts2[k])) \n",
    "        testey.append((polaridade2[k]))\n",
    "        negativos += 1\n",
    "        np.delete(polaridade2,k)\n",
    "        np.delete(posts2,k)\n",
    "    \n",
    "\n",
    "for j in  range(len(posts2)) :\n",
    "    \n",
    "    if j < 10000:\n",
    "            text2.append(cleanText(posts2[j]))\n",
    "            pol2.append((polaridade2[j])) \n",
    "        \n",
    "    else :\n",
    "        break\n",
    "        \n",
    "\n",
    "    "
   ]
  },
  {
   "cell_type": "code",
   "execution_count": 78,
   "id": "362b0b3d",
   "metadata": {},
   "outputs": [],
   "source": [
    "xvec2= cv.fit_transform(text2).toarray()\n",
    "xtvec2 = cv.transform(teste2).toarray()\n",
    "\n"
   ]
  },
  {
   "cell_type": "code",
   "execution_count": null,
   "id": "12df358b",
   "metadata": {},
   "outputs": [],
   "source": [
    "clfMultinomial2 = MultinomialNB()\n",
    "clfComplementNB2 = ComplementNB()\n",
    "clfDecisionTree2 = tree.DecisionTreeClassifier()\n",
    "clfSGD2 = SGDClassifier(loss=\"hinge\", penalty=\"l2\", max_iter=10000)\n",
    "clfknn2 = NearestCentroid()\n",
    "\n",
    "clfMultinomial2.fit(xvec2,pol2)\n",
    "clfComplementNB2.fit(xvec2,pol2)\n",
    "clfDecisionTree2.fit(xvec2,pol2)\n",
    "clfSGD2.fit(xvec2,pol2)\n",
    "clfknn2.fit(xvec2,pol2)\n",
    "\n",
    "\n",
    "\n",
    "\n",
    "\n",
    "\n",
    "\n"
   ]
  },
  {
   "cell_type": "code",
   "execution_count": null,
   "id": "85cf91ae",
   "metadata": {},
   "outputs": [],
   "source": [
    "y_pred_mutinomial2 = clfMultinomial2.predict(xtvec2) \n",
    "y_pred_complement2 = clfComplementNB2.predict(xtvec2) \n",
    "y_pred_decisionTree2 = clfDecisionTree2.predict(xtvec2) \n",
    "y_pred_SGD2 = clfSGD2.predict(xtvec2) \n",
    "Y_pred_knn2 = clfknn2.predict(xtvec2)\n"
   ]
  },
  {
   "cell_type": "code",
   "execution_count": null,
   "id": "6a96b29c",
   "metadata": {},
   "outputs": [],
   "source": [
    "print(len(testey))\n",
    "print(len(y_pred_mutinomial2))"
   ]
  },
  {
   "cell_type": "markdown",
   "id": "9324c930",
   "metadata": {},
   "source": [
    "<h2>Classificador Multinomial Nayve Bayes<h2>\n",
    "    "
   ]
  },
  {
   "cell_type": "code",
   "execution_count": null,
   "id": "9b535cec",
   "metadata": {},
   "outputs": [],
   "source": [
    "genCm(testey,y_pred_mutinomial2)\n"
   ]
  },
  {
   "cell_type": "markdown",
   "id": "6761978f",
   "metadata": {},
   "source": [
    "<h2>Complemento de Nayve Bayes</h2>"
   ]
  },
  {
   "cell_type": "code",
   "execution_count": null,
   "id": "4190f919",
   "metadata": {},
   "outputs": [],
   "source": [
    "genCm(testey,y_pred_complement2)"
   ]
  },
  {
   "cell_type": "markdown",
   "id": "753268ed",
   "metadata": {},
   "source": [
    "<h2>Arvore de decisão</h2>"
   ]
  },
  {
   "cell_type": "code",
   "execution_count": null,
   "id": "aaeb5c43",
   "metadata": {},
   "outputs": [],
   "source": [
    "genCm(testey,y_pred_decisionTree2)"
   ]
  },
  {
   "cell_type": "markdown",
   "id": "663f5a03",
   "metadata": {},
   "source": [
    "<h2>SGD</h2>\n"
   ]
  },
  {
   "cell_type": "code",
   "execution_count": null,
   "id": "2c03af11",
   "metadata": {},
   "outputs": [],
   "source": [
    "genCm(testey,y_pred_SGD2)"
   ]
  },
  {
   "cell_type": "markdown",
   "id": "2dd2a3dc",
   "metadata": {},
   "source": [
    "<h2>KNN</h2>"
   ]
  },
  {
   "cell_type": "code",
   "execution_count": null,
   "id": "d7e71e70",
   "metadata": {},
   "outputs": [],
   "source": [
    "genCm(testey,Y_pred_knn2)"
   ]
  },
  {
   "cell_type": "code",
   "execution_count": null,
   "id": "7094b69d",
   "metadata": {},
   "outputs": [],
   "source": [
    "tweets_list2 = []\n",
    "res=[]\n",
    "dft=[]\n",
    "\n",
    "for i,tweet in enumerate(sntwitter.TwitterSearchScraper('doutor estranho since:2022-05-22 until:2022-05-24 lang:pt').get_items()):\n",
    "    if i>500:\n",
    "        break\n",
    "    tweets_list2.append([tweet.date, tweet.id, tweet.content])\n",
    "    \n",
    "tweets_df2 = pd.DataFrame(tweets_list2, columns=['Datetime', 'Tweet Id', 'Text'])\n",
    "\n",
    "testtt = tweets_df2['Text'].to_numpy()"
   ]
  },
  {
   "cell_type": "code",
   "execution_count": null,
   "id": "1e14fd7a",
   "metadata": {},
   "outputs": [],
   "source": [
    "p=0\n",
    "for p in  range(len(testtt)) :\n",
    "    res.append(testtt[p])\n",
    "    \n",
    "\n",
    "    \n",
    "xtvec3 = cv.transform(res).toarray()\n",
    "\n",
    "\n",
    "y_pred_SGD3 = clfSGD2.predict(xtvec3)\n",
    "g=y_pred_SGD3[0]\n",
    "\n",
    "\n",
    "\n",
    "\n",
    "\n",
    "\n",
    "\n",
    "tweets_df23 = pd.DataFrame(res)\n",
    "tweets_df24 = pd.DataFrame(y_pred_SGD3)\n",
    "\n",
    "\n",
    "tweets_df23\n",
    "tweets_df24\n",
    "\n",
    "\n",
    "        \n",
    "\n"
   ]
  },
  {
   "cell_type": "code",
   "execution_count": null,
   "id": "9f4c3413",
   "metadata": {},
   "outputs": [],
   "source": [
    "with open('stopwords.pickle', 'wb') as f:\n",
    "    pickle.dump(stopwords,f)\n",
    "with open('classificador.pickle', 'wb') as f:\n",
    "    pickle.dump(clfDecisionTree2,f)\n",
    "with open('cv.pickle', 'wb') as f:\n",
    "    pickle.dump(cv,f)\n",
    "    "
   ]
  },
  {
   "cell_type": "code",
   "execution_count": null,
   "id": "3929f56d",
   "metadata": {},
   "outputs": [],
   "source": [
    "pip freeze > requirements.txt"
   ]
  }
 ],
 "metadata": {
  "kernelspec": {
   "display_name": "Python 3 (ipykernel)",
   "language": "python",
   "name": "python3"
  },
  "language_info": {
   "codemirror_mode": {
    "name": "ipython",
    "version": 3
   },
   "file_extension": ".py",
   "mimetype": "text/x-python",
   "name": "python",
   "nbconvert_exporter": "python",
   "pygments_lexer": "ipython3",
   "version": "3.7.3"
  }
 },
 "nbformat": 4,
 "nbformat_minor": 5
}
